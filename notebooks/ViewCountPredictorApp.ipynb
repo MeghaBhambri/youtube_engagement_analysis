{
 "cells": [
  {
   "cell_type": "code",
   "execution_count": 4,
   "id": "015f15ef-3f34-47ee-96e1-fd517e75e3f2",
   "metadata": {},
   "outputs": [
    {
     "name": "stdout",
     "output_type": "stream",
     "text": [
      "Running on local URL:  http://127.0.0.1:7863\n",
      "\n",
      "To create a public link, set `share=True` in `launch()`.\n"
     ]
    },
    {
     "data": {
      "text/html": [
       "<div><iframe src=\"http://127.0.0.1:7863/\" width=\"100%\" height=\"500\" allow=\"autoplay; camera; microphone; clipboard-read; clipboard-write;\" frameborder=\"0\" allowfullscreen></iframe></div>"
      ],
      "text/plain": [
       "<IPython.core.display.HTML object>"
      ]
     },
     "metadata": {},
     "output_type": "display_data"
    },
    {
     "data": {
      "text/plain": []
     },
     "execution_count": 4,
     "metadata": {},
     "output_type": "execute_result"
    }
   ],
   "source": [
    "import gradio as gr\n",
    "import pickle\n",
    "import pandas as pd\n",
    "\n",
    "# Load the saved model\n",
    "with open('rr_model_view_count.pkl', 'rb') as file:\n",
    "    loaded_model = pickle.load(file)\n",
    "\n",
    "# Define the function for prediction\n",
    "def predict_view_count(likes, dislikes, comment_count, view_count,days):\n",
    "    data = {'likes': [likes], 'dislikes': [dislikes], 'comment_count': [comment_count],\n",
    "            'time_since_publication_days': 1, 'view_count': [view_count]}\n",
    "    new_data_df = pd.DataFrame(data)\n",
    "    \n",
    "    # Use the loaded model to make predictions\n",
    "    predicted_view_velocity = loaded_model.predict(new_data_df)\n",
    "    #time_period_days = days\n",
    "    predicted_view_count = int(data['view_count'][0] + predicted_view_velocity[0] * days)\n",
    "    \n",
    "    return f\"Predicted View Count in {days} days: {predicted_view_count}\"\n",
    "\n",
    "# Create the Gradio interface\n",
    "gr.Interface(fn=predict_view_count, \n",
    "             inputs=[\"number\", \"number\", \"number\", \"number\", \"number\"], \n",
    "             outputs=\"text\",\n",
    "             title=\"View Count Predictor\",\n",
    "             description=\"Predict the view count for a specified time period.\",\n",
    "             examples=[[45802, 962, 2196,1123889,1095]]).launch()\n"
   ]
  },
  {
   "cell_type": "code",
   "execution_count": null,
   "id": "a8723b1c-26df-4ae7-9ddf-054838f02ca0",
   "metadata": {},
   "outputs": [],
   "source": []
  }
 ],
 "metadata": {
  "kernelspec": {
   "display_name": "env_youtube_engagement_analysis",
   "language": "python",
   "name": "env_youtube_engagement_analysis"
  },
  "language_info": {
   "codemirror_mode": {
    "name": "ipython",
    "version": 3
   },
   "file_extension": ".py",
   "mimetype": "text/x-python",
   "name": "python",
   "nbconvert_exporter": "python",
   "pygments_lexer": "ipython3",
   "version": "3.10.9"
  }
 },
 "nbformat": 4,
 "nbformat_minor": 5
}
